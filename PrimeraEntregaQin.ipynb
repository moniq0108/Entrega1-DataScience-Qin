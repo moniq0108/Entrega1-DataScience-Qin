{
  "nbformat": 4,
  "nbformat_minor": 0,
  "metadata": {
    "colab": {
      "provenance": []
    },
    "kernelspec": {
      "name": "python3",
      "display_name": "Python 3"
    },
    "language_info": {
      "name": "python"
    }
  },
  "cells": [
    {
      "cell_type": "markdown",
      "source": [
        "# **Business Understanding**\n",
        "# **Abstract**\n",
        "\n",
        "Este dataset proveido por Oracle es sobre detección de fraude en seguros de vehículos. El fraude de seguros de vehículos implica realizar denuncias falsas o exageradas para cobrar la suma asegurada según la cobertura que tengan contratada.\n",
        "\n",
        "Con la información que las compañías de seguro solicitan durante el periodo de subscripción del seguro, se busca poder predecir quienes pueden presentar mayores probabilidades de cometer fraude como así entender cuáles son características comunes que presentan dichos individuos.\n",
        "\n",
        "**Contexto comercial:**\n",
        "Las compañías de seguros se basan en la ley de los grandes número para evaluar el valor y la frecuencia de las reclamaciones futuras que pagan a los asegurados. Cuando funciona a la perfección, las compañías de seguros tienen un negocio estable, los consumidores pagan una prima justa y precisa, y todo el sistema financiero evita serios trastornos. Sin embargo, este equilibrio se pierde si no se identifica los reclamos fraudulentos.\n",
        "\n",
        "**Problema comercial:**\n",
        "\n",
        "Existen caracteristicas comunes que se puedan identificar con la population que cometio fraude?\n",
        "\n",
        "**Contexto analítico:**\n",
        "Oracle ha proporcionado 15420 datos sobre todos los reclamos realizado de una compañia de seguros de quienes están cubiertos durante el plazo de la poliza para vehículos. El database proporciona la siguiente información:\n",
        "\n",
        "00) Month: mes en el que ocurrió el accidente\n",
        "\n",
        "01) WeekOfMonth: semana en la que ocurrió el accidente\n",
        "\n",
        "02) DayOfWeek: Día de la semana en que ocurrió el accidente\n",
        "\n",
        "03) Make: Marca del vehículo\n",
        "\n",
        "04) AccidentArea: Si el accidente fue en un área rural o urbana\n",
        "\n",
        "05) DayOfWeekClaimed: Día de la semana en la que se hizo la denuncia\n",
        "\n",
        "06) MonthClaimed: Mes en el que se hizo la denuncia\n",
        "\n",
        "07) WeekOfMonthClaimed: Número de semana del mes en la que se hizo la denuncia\n",
        "\n",
        "08) Sex: Género de la persona que realiza la denuncia\n",
        "\n",
        "09) MaritalStatus: Estado cívil de la persona que hace la denuncia\n",
        "\n",
        "10) Age: Edad de la persona que hace la denuncia\n",
        "\n",
        "11) Fault: Si el culpable fue el dueño del seguro u otro involucrado\n",
        "\n",
        "12) PolicyType: Combinación de tipo de auto y de tipo de póliza: Liability (contra terceros), Collision (Incluye daños al vehículo del propietario), All Perils (contra todo riesgo)\n",
        "\n",
        "13) VehicleCatergory: Clasificación de tipo de auto\n",
        "\n",
        "14) VehiclePrice: Precio del vehículo\n",
        "\n",
        "15) FraudFound_P: Si el incidente fue fraudulento o no, columna a predecir\n",
        "\n",
        "16) PolicyNumber: Número único de accidente, coincide con el número de filas del dataset\n",
        "\n",
        "17) RepNumber: Numeración entre 1 y 16\n",
        "\n",
        "18) Deductible: Costo del seguro\n",
        "\n",
        "19) DriverRating: Calificación del piloto, puede ser data ordinal\n",
        "\n",
        "20) Days_Policy_Accident: Rango adquisición del seguro y suceso del accidente\n",
        "\n",
        "21) Days_Policy_Claim: Rango entre adquisición del seguro y denuncia del accidente\n",
        "\n",
        "22) PastNumberOfClaims: Cantidad de denuncias anteriores realizadas por el dueño del vehículo\n",
        "\n",
        "23) AgeOfVehicle: Edad del vehículo\n",
        "\n",
        "24) AgeOfPolicyHolder: Edad del dueño del seguro\n",
        "\n",
        "25) PoliceReportFiled: Si fue denunciado a la policía\n",
        "\n",
        "26) WitnessPresent: Si hubo un testigo presente\n",
        "\n",
        "27) AgentType: Internos son cuando el fraude es realizado por personas trabajando en la empresa de seguros. Externos son los fraudes en los que el seguro es engañado por personas independientes.\n",
        "\n",
        "28) NumberOfSuppliments: Son daños al vehículo no registrados a la hora de la denuncia, daños extras que no se ven por el exterior, normalmente roturas en componentes internos como suspensión, chasis, etc\n",
        "\n",
        "29) AddressChange_Claim: Si el dueño del seguro se mudó después de denunciar un accidente y cuanto tiempo después\n",
        "\n",
        "30) NumberOfCars: Número de autos involucrados en el accidente\n",
        "\n",
        "31) Year: Año en el que ocurrió el accidente\n",
        "\n",
        "32) BasePolicy: Tipo de seguro"
      ],
      "metadata": {
        "id": "gnb6unwfjsMG"
      }
    },
    {
      "cell_type": "markdown",
      "source": [
        "# **Data Understanding**\n",
        "# **Data Adquisition**"
      ],
      "metadata": {
        "id": "DT_zQTv3PSYB"
      }
    },
    {
      "cell_type": "code",
      "source": [
        "import pandas as pd\n",
        "import numpy as np\n",
        "import matplotlib.pylab as plt\n",
        "import seaborn as sns\n",
        "\n",
        "from google.colab import drive\n",
        "import os\n",
        "drive.mount('/content/gdrive', force_remount=True)\n",
        "%cd '/content/gdrive/My Drive'\n",
        "df= pd.read_csv('fraud_oracle.csv',sep=';',encoding= 'unicode_escape')\n",
        "df.head()\n",
        "\n"
      ],
      "metadata": {
        "colab": {
          "base_uri": "https://localhost:8080/",
          "height": 336
        },
        "id": "OouqWUv5nYeD",
        "outputId": "33886e12-0d2c-4adf-c2a8-6f2af844ce4f"
      },
      "execution_count": null,
      "outputs": [
        {
          "output_type": "stream",
          "name": "stdout",
          "text": [
            "Mounted at /content/gdrive\n",
            "/content/gdrive/My Drive\n"
          ]
        },
        {
          "output_type": "execute_result",
          "data": {
            "text/plain": [
              "  ï»¿Month  WeekOfMonth  DayOfWeek    Make AccidentArea DayOfWeekClaimed  \\\n",
              "0      Dec            5  Wednesday   Honda        Urban          Tuesday   \n",
              "1      Jan            3  Wednesday   Honda        Urban           Monday   \n",
              "2      Oct            5     Friday   Honda        Urban         Thursday   \n",
              "3      Jun            2   Saturday  Toyota        Rural           Friday   \n",
              "4      Jan            5     Monday   Honda        Urban          Tuesday   \n",
              "\n",
              "  MonthClaimed  WeekOfMonthClaimed     Sex MaritalStatus  ...  AgeOfVehicle  \\\n",
              "0          Jan                   1  Female        Single  ...       3 years   \n",
              "1          Jan                   4    Male        Single  ...       6 years   \n",
              "2          Nov                   2    Male       Married  ...       7 years   \n",
              "3          Jul                   1    Male       Married  ...   more than 7   \n",
              "4          Feb                   2  Female        Single  ...       5 years   \n",
              "\n",
              "  AgeOfPolicyHolder PoliceReportFiled WitnessPresent AgentType  \\\n",
              "0          26 to 30                No             No  External   \n",
              "1          31 to 35               Yes             No  External   \n",
              "2          41 to 50                No             No  External   \n",
              "3          51 to 65               Yes             No  External   \n",
              "4          31 to 35                No             No  External   \n",
              "\n",
              "   NumberOfSuppliments  AddressChange_Claim  NumberOfCars  Year  BasePolicy  \n",
              "0                 none               1 year        3 to 4  1994   Liability  \n",
              "1                 none            no change     1 vehicle  1994   Collision  \n",
              "2                 none            no change     1 vehicle  1994   Collision  \n",
              "3          more than 5            no change     1 vehicle  1994   Liability  \n",
              "4                 none            no change     1 vehicle  1994   Collision  \n",
              "\n",
              "[5 rows x 33 columns]"
            ],
            "text/html": [
              "\n",
              "  <div id=\"df-911ef4fc-a277-445d-ad2e-8a1df5cc2173\">\n",
              "    <div class=\"colab-df-container\">\n",
              "      <div>\n",
              "<style scoped>\n",
              "    .dataframe tbody tr th:only-of-type {\n",
              "        vertical-align: middle;\n",
              "    }\n",
              "\n",
              "    .dataframe tbody tr th {\n",
              "        vertical-align: top;\n",
              "    }\n",
              "\n",
              "    .dataframe thead th {\n",
              "        text-align: right;\n",
              "    }\n",
              "</style>\n",
              "<table border=\"1\" class=\"dataframe\">\n",
              "  <thead>\n",
              "    <tr style=\"text-align: right;\">\n",
              "      <th></th>\n",
              "      <th>ï»¿Month</th>\n",
              "      <th>WeekOfMonth</th>\n",
              "      <th>DayOfWeek</th>\n",
              "      <th>Make</th>\n",
              "      <th>AccidentArea</th>\n",
              "      <th>DayOfWeekClaimed</th>\n",
              "      <th>MonthClaimed</th>\n",
              "      <th>WeekOfMonthClaimed</th>\n",
              "      <th>Sex</th>\n",
              "      <th>MaritalStatus</th>\n",
              "      <th>...</th>\n",
              "      <th>AgeOfVehicle</th>\n",
              "      <th>AgeOfPolicyHolder</th>\n",
              "      <th>PoliceReportFiled</th>\n",
              "      <th>WitnessPresent</th>\n",
              "      <th>AgentType</th>\n",
              "      <th>NumberOfSuppliments</th>\n",
              "      <th>AddressChange_Claim</th>\n",
              "      <th>NumberOfCars</th>\n",
              "      <th>Year</th>\n",
              "      <th>BasePolicy</th>\n",
              "    </tr>\n",
              "  </thead>\n",
              "  <tbody>\n",
              "    <tr>\n",
              "      <th>0</th>\n",
              "      <td>Dec</td>\n",
              "      <td>5</td>\n",
              "      <td>Wednesday</td>\n",
              "      <td>Honda</td>\n",
              "      <td>Urban</td>\n",
              "      <td>Tuesday</td>\n",
              "      <td>Jan</td>\n",
              "      <td>1</td>\n",
              "      <td>Female</td>\n",
              "      <td>Single</td>\n",
              "      <td>...</td>\n",
              "      <td>3 years</td>\n",
              "      <td>26 to 30</td>\n",
              "      <td>No</td>\n",
              "      <td>No</td>\n",
              "      <td>External</td>\n",
              "      <td>none</td>\n",
              "      <td>1 year</td>\n",
              "      <td>3 to 4</td>\n",
              "      <td>1994</td>\n",
              "      <td>Liability</td>\n",
              "    </tr>\n",
              "    <tr>\n",
              "      <th>1</th>\n",
              "      <td>Jan</td>\n",
              "      <td>3</td>\n",
              "      <td>Wednesday</td>\n",
              "      <td>Honda</td>\n",
              "      <td>Urban</td>\n",
              "      <td>Monday</td>\n",
              "      <td>Jan</td>\n",
              "      <td>4</td>\n",
              "      <td>Male</td>\n",
              "      <td>Single</td>\n",
              "      <td>...</td>\n",
              "      <td>6 years</td>\n",
              "      <td>31 to 35</td>\n",
              "      <td>Yes</td>\n",
              "      <td>No</td>\n",
              "      <td>External</td>\n",
              "      <td>none</td>\n",
              "      <td>no change</td>\n",
              "      <td>1 vehicle</td>\n",
              "      <td>1994</td>\n",
              "      <td>Collision</td>\n",
              "    </tr>\n",
              "    <tr>\n",
              "      <th>2</th>\n",
              "      <td>Oct</td>\n",
              "      <td>5</td>\n",
              "      <td>Friday</td>\n",
              "      <td>Honda</td>\n",
              "      <td>Urban</td>\n",
              "      <td>Thursday</td>\n",
              "      <td>Nov</td>\n",
              "      <td>2</td>\n",
              "      <td>Male</td>\n",
              "      <td>Married</td>\n",
              "      <td>...</td>\n",
              "      <td>7 years</td>\n",
              "      <td>41 to 50</td>\n",
              "      <td>No</td>\n",
              "      <td>No</td>\n",
              "      <td>External</td>\n",
              "      <td>none</td>\n",
              "      <td>no change</td>\n",
              "      <td>1 vehicle</td>\n",
              "      <td>1994</td>\n",
              "      <td>Collision</td>\n",
              "    </tr>\n",
              "    <tr>\n",
              "      <th>3</th>\n",
              "      <td>Jun</td>\n",
              "      <td>2</td>\n",
              "      <td>Saturday</td>\n",
              "      <td>Toyota</td>\n",
              "      <td>Rural</td>\n",
              "      <td>Friday</td>\n",
              "      <td>Jul</td>\n",
              "      <td>1</td>\n",
              "      <td>Male</td>\n",
              "      <td>Married</td>\n",
              "      <td>...</td>\n",
              "      <td>more than 7</td>\n",
              "      <td>51 to 65</td>\n",
              "      <td>Yes</td>\n",
              "      <td>No</td>\n",
              "      <td>External</td>\n",
              "      <td>more than 5</td>\n",
              "      <td>no change</td>\n",
              "      <td>1 vehicle</td>\n",
              "      <td>1994</td>\n",
              "      <td>Liability</td>\n",
              "    </tr>\n",
              "    <tr>\n",
              "      <th>4</th>\n",
              "      <td>Jan</td>\n",
              "      <td>5</td>\n",
              "      <td>Monday</td>\n",
              "      <td>Honda</td>\n",
              "      <td>Urban</td>\n",
              "      <td>Tuesday</td>\n",
              "      <td>Feb</td>\n",
              "      <td>2</td>\n",
              "      <td>Female</td>\n",
              "      <td>Single</td>\n",
              "      <td>...</td>\n",
              "      <td>5 years</td>\n",
              "      <td>31 to 35</td>\n",
              "      <td>No</td>\n",
              "      <td>No</td>\n",
              "      <td>External</td>\n",
              "      <td>none</td>\n",
              "      <td>no change</td>\n",
              "      <td>1 vehicle</td>\n",
              "      <td>1994</td>\n",
              "      <td>Collision</td>\n",
              "    </tr>\n",
              "  </tbody>\n",
              "</table>\n",
              "<p>5 rows × 33 columns</p>\n",
              "</div>\n",
              "      <button class=\"colab-df-convert\" onclick=\"convertToInteractive('df-911ef4fc-a277-445d-ad2e-8a1df5cc2173')\"\n",
              "              title=\"Convert this dataframe to an interactive table.\"\n",
              "              style=\"display:none;\">\n",
              "        \n",
              "  <svg xmlns=\"http://www.w3.org/2000/svg\" height=\"24px\"viewBox=\"0 0 24 24\"\n",
              "       width=\"24px\">\n",
              "    <path d=\"M0 0h24v24H0V0z\" fill=\"none\"/>\n",
              "    <path d=\"M18.56 5.44l.94 2.06.94-2.06 2.06-.94-2.06-.94-.94-2.06-.94 2.06-2.06.94zm-11 1L8.5 8.5l.94-2.06 2.06-.94-2.06-.94L8.5 2.5l-.94 2.06-2.06.94zm10 10l.94 2.06.94-2.06 2.06-.94-2.06-.94-.94-2.06-.94 2.06-2.06.94z\"/><path d=\"M17.41 7.96l-1.37-1.37c-.4-.4-.92-.59-1.43-.59-.52 0-1.04.2-1.43.59L10.3 9.45l-7.72 7.72c-.78.78-.78 2.05 0 2.83L4 21.41c.39.39.9.59 1.41.59.51 0 1.02-.2 1.41-.59l7.78-7.78 2.81-2.81c.8-.78.8-2.07 0-2.86zM5.41 20L4 18.59l7.72-7.72 1.47 1.35L5.41 20z\"/>\n",
              "  </svg>\n",
              "      </button>\n",
              "      \n",
              "  <style>\n",
              "    .colab-df-container {\n",
              "      display:flex;\n",
              "      flex-wrap:wrap;\n",
              "      gap: 12px;\n",
              "    }\n",
              "\n",
              "    .colab-df-convert {\n",
              "      background-color: #E8F0FE;\n",
              "      border: none;\n",
              "      border-radius: 50%;\n",
              "      cursor: pointer;\n",
              "      display: none;\n",
              "      fill: #1967D2;\n",
              "      height: 32px;\n",
              "      padding: 0 0 0 0;\n",
              "      width: 32px;\n",
              "    }\n",
              "\n",
              "    .colab-df-convert:hover {\n",
              "      background-color: #E2EBFA;\n",
              "      box-shadow: 0px 1px 2px rgba(60, 64, 67, 0.3), 0px 1px 3px 1px rgba(60, 64, 67, 0.15);\n",
              "      fill: #174EA6;\n",
              "    }\n",
              "\n",
              "    [theme=dark] .colab-df-convert {\n",
              "      background-color: #3B4455;\n",
              "      fill: #D2E3FC;\n",
              "    }\n",
              "\n",
              "    [theme=dark] .colab-df-convert:hover {\n",
              "      background-color: #434B5C;\n",
              "      box-shadow: 0px 1px 3px 1px rgba(0, 0, 0, 0.15);\n",
              "      filter: drop-shadow(0px 1px 2px rgba(0, 0, 0, 0.3));\n",
              "      fill: #FFFFFF;\n",
              "    }\n",
              "  </style>\n",
              "\n",
              "      <script>\n",
              "        const buttonEl =\n",
              "          document.querySelector('#df-911ef4fc-a277-445d-ad2e-8a1df5cc2173 button.colab-df-convert');\n",
              "        buttonEl.style.display =\n",
              "          google.colab.kernel.accessAllowed ? 'block' : 'none';\n",
              "\n",
              "        async function convertToInteractive(key) {\n",
              "          const element = document.querySelector('#df-911ef4fc-a277-445d-ad2e-8a1df5cc2173');\n",
              "          const dataTable =\n",
              "            await google.colab.kernel.invokeFunction('convertToInteractive',\n",
              "                                                     [key], {});\n",
              "          if (!dataTable) return;\n",
              "\n",
              "          const docLinkHtml = 'Like what you see? Visit the ' +\n",
              "            '<a target=\"_blank\" href=https://colab.research.google.com/notebooks/data_table.ipynb>data table notebook</a>'\n",
              "            + ' to learn more about interactive tables.';\n",
              "          element.innerHTML = '';\n",
              "          dataTable['output_type'] = 'display_data';\n",
              "          await google.colab.output.renderOutput(dataTable, element);\n",
              "          const docLink = document.createElement('div');\n",
              "          docLink.innerHTML = docLinkHtml;\n",
              "          element.appendChild(docLink);\n",
              "        }\n",
              "      </script>\n",
              "    </div>\n",
              "  </div>\n",
              "  "
            ]
          },
          "metadata": {},
          "execution_count": 1
        }
      ]
    },
    {
      "cell_type": "code",
      "source": [
        "df.shape"
      ],
      "metadata": {
        "colab": {
          "base_uri": "https://localhost:8080/"
        },
        "id": "0eOK4WTHPXmF",
        "outputId": "4580d0ee-f6c4-467a-a4ac-645462253d1d"
      },
      "execution_count": null,
      "outputs": [
        {
          "output_type": "execute_result",
          "data": {
            "text/plain": [
              "(15420, 33)"
            ]
          },
          "metadata": {},
          "execution_count": 2
        }
      ]
    },
    {
      "cell_type": "code",
      "source": [
        "df.describe().T"
      ],
      "metadata": {
        "colab": {
          "base_uri": "https://localhost:8080/",
          "height": 331
        },
        "id": "w62Rz08T3Si6",
        "outputId": "7153d631-83d7-4bc5-8e78-2a37c6c39aaf"
      },
      "execution_count": null,
      "outputs": [
        {
          "output_type": "execute_result",
          "data": {
            "text/plain": [
              "                      count         mean          std     min      25%  \\\n",
              "WeekOfMonth         15420.0     2.788586     1.287585     1.0     2.00   \n",
              "WeekOfMonthClaimed  15420.0     2.693969     1.259115     1.0     2.00   \n",
              "Age                 15420.0    39.855707    13.492377     0.0    31.00   \n",
              "FraudFound_P        15420.0     0.059857     0.237230     0.0     0.00   \n",
              "PolicyNumber        15420.0  7710.500000  4451.514911     1.0  3855.75   \n",
              "RepNumber           15420.0     8.483268     4.599948     1.0     5.00   \n",
              "Deductible          15420.0   407.704280    43.950998   300.0   400.00   \n",
              "DriverRating        15420.0     2.487808     1.119453     1.0     1.00   \n",
              "Year                15420.0  1994.866472     0.803313  1994.0  1994.00   \n",
              "\n",
              "                       50%       75%      max  \n",
              "WeekOfMonth            3.0      4.00      5.0  \n",
              "WeekOfMonthClaimed     3.0      4.00      5.0  \n",
              "Age                   38.0     48.00     80.0  \n",
              "FraudFound_P           0.0      0.00      1.0  \n",
              "PolicyNumber        7710.5  11565.25  15420.0  \n",
              "RepNumber              8.0     12.00     16.0  \n",
              "Deductible           400.0    400.00    700.0  \n",
              "DriverRating           2.0      3.00      4.0  \n",
              "Year                1995.0   1996.00   1996.0  "
            ],
            "text/html": [
              "\n",
              "  <div id=\"df-df5370aa-4717-4207-ac67-4ff15ddabd16\">\n",
              "    <div class=\"colab-df-container\">\n",
              "      <div>\n",
              "<style scoped>\n",
              "    .dataframe tbody tr th:only-of-type {\n",
              "        vertical-align: middle;\n",
              "    }\n",
              "\n",
              "    .dataframe tbody tr th {\n",
              "        vertical-align: top;\n",
              "    }\n",
              "\n",
              "    .dataframe thead th {\n",
              "        text-align: right;\n",
              "    }\n",
              "</style>\n",
              "<table border=\"1\" class=\"dataframe\">\n",
              "  <thead>\n",
              "    <tr style=\"text-align: right;\">\n",
              "      <th></th>\n",
              "      <th>count</th>\n",
              "      <th>mean</th>\n",
              "      <th>std</th>\n",
              "      <th>min</th>\n",
              "      <th>25%</th>\n",
              "      <th>50%</th>\n",
              "      <th>75%</th>\n",
              "      <th>max</th>\n",
              "    </tr>\n",
              "  </thead>\n",
              "  <tbody>\n",
              "    <tr>\n",
              "      <th>WeekOfMonth</th>\n",
              "      <td>15420.0</td>\n",
              "      <td>2.788586</td>\n",
              "      <td>1.287585</td>\n",
              "      <td>1.0</td>\n",
              "      <td>2.00</td>\n",
              "      <td>3.0</td>\n",
              "      <td>4.00</td>\n",
              "      <td>5.0</td>\n",
              "    </tr>\n",
              "    <tr>\n",
              "      <th>WeekOfMonthClaimed</th>\n",
              "      <td>15420.0</td>\n",
              "      <td>2.693969</td>\n",
              "      <td>1.259115</td>\n",
              "      <td>1.0</td>\n",
              "      <td>2.00</td>\n",
              "      <td>3.0</td>\n",
              "      <td>4.00</td>\n",
              "      <td>5.0</td>\n",
              "    </tr>\n",
              "    <tr>\n",
              "      <th>Age</th>\n",
              "      <td>15420.0</td>\n",
              "      <td>39.855707</td>\n",
              "      <td>13.492377</td>\n",
              "      <td>0.0</td>\n",
              "      <td>31.00</td>\n",
              "      <td>38.0</td>\n",
              "      <td>48.00</td>\n",
              "      <td>80.0</td>\n",
              "    </tr>\n",
              "    <tr>\n",
              "      <th>FraudFound_P</th>\n",
              "      <td>15420.0</td>\n",
              "      <td>0.059857</td>\n",
              "      <td>0.237230</td>\n",
              "      <td>0.0</td>\n",
              "      <td>0.00</td>\n",
              "      <td>0.0</td>\n",
              "      <td>0.00</td>\n",
              "      <td>1.0</td>\n",
              "    </tr>\n",
              "    <tr>\n",
              "      <th>PolicyNumber</th>\n",
              "      <td>15420.0</td>\n",
              "      <td>7710.500000</td>\n",
              "      <td>4451.514911</td>\n",
              "      <td>1.0</td>\n",
              "      <td>3855.75</td>\n",
              "      <td>7710.5</td>\n",
              "      <td>11565.25</td>\n",
              "      <td>15420.0</td>\n",
              "    </tr>\n",
              "    <tr>\n",
              "      <th>RepNumber</th>\n",
              "      <td>15420.0</td>\n",
              "      <td>8.483268</td>\n",
              "      <td>4.599948</td>\n",
              "      <td>1.0</td>\n",
              "      <td>5.00</td>\n",
              "      <td>8.0</td>\n",
              "      <td>12.00</td>\n",
              "      <td>16.0</td>\n",
              "    </tr>\n",
              "    <tr>\n",
              "      <th>Deductible</th>\n",
              "      <td>15420.0</td>\n",
              "      <td>407.704280</td>\n",
              "      <td>43.950998</td>\n",
              "      <td>300.0</td>\n",
              "      <td>400.00</td>\n",
              "      <td>400.0</td>\n",
              "      <td>400.00</td>\n",
              "      <td>700.0</td>\n",
              "    </tr>\n",
              "    <tr>\n",
              "      <th>DriverRating</th>\n",
              "      <td>15420.0</td>\n",
              "      <td>2.487808</td>\n",
              "      <td>1.119453</td>\n",
              "      <td>1.0</td>\n",
              "      <td>1.00</td>\n",
              "      <td>2.0</td>\n",
              "      <td>3.00</td>\n",
              "      <td>4.0</td>\n",
              "    </tr>\n",
              "    <tr>\n",
              "      <th>Year</th>\n",
              "      <td>15420.0</td>\n",
              "      <td>1994.866472</td>\n",
              "      <td>0.803313</td>\n",
              "      <td>1994.0</td>\n",
              "      <td>1994.00</td>\n",
              "      <td>1995.0</td>\n",
              "      <td>1996.00</td>\n",
              "      <td>1996.0</td>\n",
              "    </tr>\n",
              "  </tbody>\n",
              "</table>\n",
              "</div>\n",
              "      <button class=\"colab-df-convert\" onclick=\"convertToInteractive('df-df5370aa-4717-4207-ac67-4ff15ddabd16')\"\n",
              "              title=\"Convert this dataframe to an interactive table.\"\n",
              "              style=\"display:none;\">\n",
              "        \n",
              "  <svg xmlns=\"http://www.w3.org/2000/svg\" height=\"24px\"viewBox=\"0 0 24 24\"\n",
              "       width=\"24px\">\n",
              "    <path d=\"M0 0h24v24H0V0z\" fill=\"none\"/>\n",
              "    <path d=\"M18.56 5.44l.94 2.06.94-2.06 2.06-.94-2.06-.94-.94-2.06-.94 2.06-2.06.94zm-11 1L8.5 8.5l.94-2.06 2.06-.94-2.06-.94L8.5 2.5l-.94 2.06-2.06.94zm10 10l.94 2.06.94-2.06 2.06-.94-2.06-.94-.94-2.06-.94 2.06-2.06.94z\"/><path d=\"M17.41 7.96l-1.37-1.37c-.4-.4-.92-.59-1.43-.59-.52 0-1.04.2-1.43.59L10.3 9.45l-7.72 7.72c-.78.78-.78 2.05 0 2.83L4 21.41c.39.39.9.59 1.41.59.51 0 1.02-.2 1.41-.59l7.78-7.78 2.81-2.81c.8-.78.8-2.07 0-2.86zM5.41 20L4 18.59l7.72-7.72 1.47 1.35L5.41 20z\"/>\n",
              "  </svg>\n",
              "      </button>\n",
              "      \n",
              "  <style>\n",
              "    .colab-df-container {\n",
              "      display:flex;\n",
              "      flex-wrap:wrap;\n",
              "      gap: 12px;\n",
              "    }\n",
              "\n",
              "    .colab-df-convert {\n",
              "      background-color: #E8F0FE;\n",
              "      border: none;\n",
              "      border-radius: 50%;\n",
              "      cursor: pointer;\n",
              "      display: none;\n",
              "      fill: #1967D2;\n",
              "      height: 32px;\n",
              "      padding: 0 0 0 0;\n",
              "      width: 32px;\n",
              "    }\n",
              "\n",
              "    .colab-df-convert:hover {\n",
              "      background-color: #E2EBFA;\n",
              "      box-shadow: 0px 1px 2px rgba(60, 64, 67, 0.3), 0px 1px 3px 1px rgba(60, 64, 67, 0.15);\n",
              "      fill: #174EA6;\n",
              "    }\n",
              "\n",
              "    [theme=dark] .colab-df-convert {\n",
              "      background-color: #3B4455;\n",
              "      fill: #D2E3FC;\n",
              "    }\n",
              "\n",
              "    [theme=dark] .colab-df-convert:hover {\n",
              "      background-color: #434B5C;\n",
              "      box-shadow: 0px 1px 3px 1px rgba(0, 0, 0, 0.15);\n",
              "      filter: drop-shadow(0px 1px 2px rgba(0, 0, 0, 0.3));\n",
              "      fill: #FFFFFF;\n",
              "    }\n",
              "  </style>\n",
              "\n",
              "      <script>\n",
              "        const buttonEl =\n",
              "          document.querySelector('#df-df5370aa-4717-4207-ac67-4ff15ddabd16 button.colab-df-convert');\n",
              "        buttonEl.style.display =\n",
              "          google.colab.kernel.accessAllowed ? 'block' : 'none';\n",
              "\n",
              "        async function convertToInteractive(key) {\n",
              "          const element = document.querySelector('#df-df5370aa-4717-4207-ac67-4ff15ddabd16');\n",
              "          const dataTable =\n",
              "            await google.colab.kernel.invokeFunction('convertToInteractive',\n",
              "                                                     [key], {});\n",
              "          if (!dataTable) return;\n",
              "\n",
              "          const docLinkHtml = 'Like what you see? Visit the ' +\n",
              "            '<a target=\"_blank\" href=https://colab.research.google.com/notebooks/data_table.ipynb>data table notebook</a>'\n",
              "            + ' to learn more about interactive tables.';\n",
              "          element.innerHTML = '';\n",
              "          dataTable['output_type'] = 'display_data';\n",
              "          await google.colab.output.renderOutput(dataTable, element);\n",
              "          const docLink = document.createElement('div');\n",
              "          docLink.innerHTML = docLinkHtml;\n",
              "          element.appendChild(docLink);\n",
              "        }\n",
              "      </script>\n",
              "    </div>\n",
              "  </div>\n",
              "  "
            ]
          },
          "metadata": {},
          "execution_count": 3
        }
      ]
    },
    {
      "cell_type": "markdown",
      "source": [
        "*Serie de preguntas*\n",
        "\n",
        "Para encontrar patrones de quienes cometen fraude, se intenterá contestar las siguientes preguntas.\n",
        "\n",
        "¿Cuál es la relación entre sexo y denuncias fraudulentas? Hay algún sexo predominante?\n",
        "\n",
        "¿Qué marital status presenta más tendencia a realizar denuncias fraudulentas?\n",
        "\n",
        "¿Se puede identificar un rango etario?\n",
        "\n",
        "¿Antiguedad del auto asegurado en operacione fraudulentas?\n",
        "\n",
        "¿Cuáles son las marcas de los vehículos más utilizados al cometer fraude?\n",
        "\n",
        "¿Influye la categoría del auto?\n",
        "\n",
        "\n",
        "*Data Preparation.*\n",
        "\n",
        "*EDA - Exploratory Data Analysis 📊*\n",
        "\n",
        "*1) Data Wrangling*\n",
        "\n",
        "Comenzamos realizando la preparación de los datos, con el objetivo de seleccionar aquellos subconjuntos de datos que nos resulten relevantes para nuestro análisis, filtrar y ordenar el dataset así como eliminar datos y/o variables nulas y duplicadas."
      ],
      "metadata": {
        "id": "ID_cnA1APdGN"
      }
    },
    {
      "cell_type": "code",
      "source": [
        "#Creo subdataset para obtener solo la información de los reclamos fraudulentos filtrando por FraudFound_P=1\n",
        "\n",
        "df_fraud = df.loc[(df['FraudFound_P'] == 1)]\n",
        "df_fraud.head(5)"
      ],
      "metadata": {
        "colab": {
          "base_uri": "https://localhost:8080/",
          "height": 299
        },
        "id": "cVIltQ5V35P9",
        "outputId": "29a82e32-a871-469f-f160-183d5a4121d9"
      },
      "execution_count": null,
      "outputs": [
        {
          "output_type": "execute_result",
          "data": {
            "text/plain": [
              "   ï»¿Month  WeekOfMonth DayOfWeek    Make AccidentArea DayOfWeekClaimed  \\\n",
              "28      Jul            1  Saturday   Honda        Urban          Tuesday   \n",
              "52      Jul            3    Sunday   Honda        Rural        Wednesday   \n",
              "53      Jul            4  Saturday   Honda        Urban        Wednesday   \n",
              "94      Nov            2  Thursday   Honda        Urban           Friday   \n",
              "96      Nov            2    Friday  Toyota        Urban          Tuesday   \n",
              "\n",
              "   MonthClaimed  WeekOfMonthClaimed   Sex MaritalStatus  ...  AgeOfVehicle  \\\n",
              "28          Sep                   4  Male        Single  ...           new   \n",
              "52          Jan                   4  Male       Married  ...       4 years   \n",
              "53          Aug                   2  Male       Married  ...   more than 7   \n",
              "94          Jan                   3  Male        Single  ...       7 years   \n",
              "96          Jan                   1  Male       Married  ...       7 years   \n",
              "\n",
              "   AgeOfPolicyHolder PoliceReportFiled WitnessPresent AgentType  \\\n",
              "28          16 to 17                No             No  External   \n",
              "52          26 to 30                No             No  External   \n",
              "53          41 to 50                No             No  External   \n",
              "94          31 to 35                No             No  External   \n",
              "96          36 to 40                No             No  External   \n",
              "\n",
              "    NumberOfSuppliments  AddressChange_Claim  NumberOfCars  Year  BasePolicy  \n",
              "28                 none            no change     1 vehicle  1994  All Perils  \n",
              "52               3 to 5            no change     1 vehicle  1994   Collision  \n",
              "53               3 to 5            no change     1 vehicle  1994   Collision  \n",
              "94               3 to 5            no change     1 vehicle  1994   Collision  \n",
              "96                 none            no change     1 vehicle  1994   Collision  \n",
              "\n",
              "[5 rows x 33 columns]"
            ],
            "text/html": [
              "\n",
              "  <div id=\"df-33d5b0f0-46b7-4907-8ba1-89baf862192a\">\n",
              "    <div class=\"colab-df-container\">\n",
              "      <div>\n",
              "<style scoped>\n",
              "    .dataframe tbody tr th:only-of-type {\n",
              "        vertical-align: middle;\n",
              "    }\n",
              "\n",
              "    .dataframe tbody tr th {\n",
              "        vertical-align: top;\n",
              "    }\n",
              "\n",
              "    .dataframe thead th {\n",
              "        text-align: right;\n",
              "    }\n",
              "</style>\n",
              "<table border=\"1\" class=\"dataframe\">\n",
              "  <thead>\n",
              "    <tr style=\"text-align: right;\">\n",
              "      <th></th>\n",
              "      <th>ï»¿Month</th>\n",
              "      <th>WeekOfMonth</th>\n",
              "      <th>DayOfWeek</th>\n",
              "      <th>Make</th>\n",
              "      <th>AccidentArea</th>\n",
              "      <th>DayOfWeekClaimed</th>\n",
              "      <th>MonthClaimed</th>\n",
              "      <th>WeekOfMonthClaimed</th>\n",
              "      <th>Sex</th>\n",
              "      <th>MaritalStatus</th>\n",
              "      <th>...</th>\n",
              "      <th>AgeOfVehicle</th>\n",
              "      <th>AgeOfPolicyHolder</th>\n",
              "      <th>PoliceReportFiled</th>\n",
              "      <th>WitnessPresent</th>\n",
              "      <th>AgentType</th>\n",
              "      <th>NumberOfSuppliments</th>\n",
              "      <th>AddressChange_Claim</th>\n",
              "      <th>NumberOfCars</th>\n",
              "      <th>Year</th>\n",
              "      <th>BasePolicy</th>\n",
              "    </tr>\n",
              "  </thead>\n",
              "  <tbody>\n",
              "    <tr>\n",
              "      <th>28</th>\n",
              "      <td>Jul</td>\n",
              "      <td>1</td>\n",
              "      <td>Saturday</td>\n",
              "      <td>Honda</td>\n",
              "      <td>Urban</td>\n",
              "      <td>Tuesday</td>\n",
              "      <td>Sep</td>\n",
              "      <td>4</td>\n",
              "      <td>Male</td>\n",
              "      <td>Single</td>\n",
              "      <td>...</td>\n",
              "      <td>new</td>\n",
              "      <td>16 to 17</td>\n",
              "      <td>No</td>\n",
              "      <td>No</td>\n",
              "      <td>External</td>\n",
              "      <td>none</td>\n",
              "      <td>no change</td>\n",
              "      <td>1 vehicle</td>\n",
              "      <td>1994</td>\n",
              "      <td>All Perils</td>\n",
              "    </tr>\n",
              "    <tr>\n",
              "      <th>52</th>\n",
              "      <td>Jul</td>\n",
              "      <td>3</td>\n",
              "      <td>Sunday</td>\n",
              "      <td>Honda</td>\n",
              "      <td>Rural</td>\n",
              "      <td>Wednesday</td>\n",
              "      <td>Jan</td>\n",
              "      <td>4</td>\n",
              "      <td>Male</td>\n",
              "      <td>Married</td>\n",
              "      <td>...</td>\n",
              "      <td>4 years</td>\n",
              "      <td>26 to 30</td>\n",
              "      <td>No</td>\n",
              "      <td>No</td>\n",
              "      <td>External</td>\n",
              "      <td>3 to 5</td>\n",
              "      <td>no change</td>\n",
              "      <td>1 vehicle</td>\n",
              "      <td>1994</td>\n",
              "      <td>Collision</td>\n",
              "    </tr>\n",
              "    <tr>\n",
              "      <th>53</th>\n",
              "      <td>Jul</td>\n",
              "      <td>4</td>\n",
              "      <td>Saturday</td>\n",
              "      <td>Honda</td>\n",
              "      <td>Urban</td>\n",
              "      <td>Wednesday</td>\n",
              "      <td>Aug</td>\n",
              "      <td>2</td>\n",
              "      <td>Male</td>\n",
              "      <td>Married</td>\n",
              "      <td>...</td>\n",
              "      <td>more than 7</td>\n",
              "      <td>41 to 50</td>\n",
              "      <td>No</td>\n",
              "      <td>No</td>\n",
              "      <td>External</td>\n",
              "      <td>3 to 5</td>\n",
              "      <td>no change</td>\n",
              "      <td>1 vehicle</td>\n",
              "      <td>1994</td>\n",
              "      <td>Collision</td>\n",
              "    </tr>\n",
              "    <tr>\n",
              "      <th>94</th>\n",
              "      <td>Nov</td>\n",
              "      <td>2</td>\n",
              "      <td>Thursday</td>\n",
              "      <td>Honda</td>\n",
              "      <td>Urban</td>\n",
              "      <td>Friday</td>\n",
              "      <td>Jan</td>\n",
              "      <td>3</td>\n",
              "      <td>Male</td>\n",
              "      <td>Single</td>\n",
              "      <td>...</td>\n",
              "      <td>7 years</td>\n",
              "      <td>31 to 35</td>\n",
              "      <td>No</td>\n",
              "      <td>No</td>\n",
              "      <td>External</td>\n",
              "      <td>3 to 5</td>\n",
              "      <td>no change</td>\n",
              "      <td>1 vehicle</td>\n",
              "      <td>1994</td>\n",
              "      <td>Collision</td>\n",
              "    </tr>\n",
              "    <tr>\n",
              "      <th>96</th>\n",
              "      <td>Nov</td>\n",
              "      <td>2</td>\n",
              "      <td>Friday</td>\n",
              "      <td>Toyota</td>\n",
              "      <td>Urban</td>\n",
              "      <td>Tuesday</td>\n",
              "      <td>Jan</td>\n",
              "      <td>1</td>\n",
              "      <td>Male</td>\n",
              "      <td>Married</td>\n",
              "      <td>...</td>\n",
              "      <td>7 years</td>\n",
              "      <td>36 to 40</td>\n",
              "      <td>No</td>\n",
              "      <td>No</td>\n",
              "      <td>External</td>\n",
              "      <td>none</td>\n",
              "      <td>no change</td>\n",
              "      <td>1 vehicle</td>\n",
              "      <td>1994</td>\n",
              "      <td>Collision</td>\n",
              "    </tr>\n",
              "  </tbody>\n",
              "</table>\n",
              "<p>5 rows × 33 columns</p>\n",
              "</div>\n",
              "      <button class=\"colab-df-convert\" onclick=\"convertToInteractive('df-33d5b0f0-46b7-4907-8ba1-89baf862192a')\"\n",
              "              title=\"Convert this dataframe to an interactive table.\"\n",
              "              style=\"display:none;\">\n",
              "        \n",
              "  <svg xmlns=\"http://www.w3.org/2000/svg\" height=\"24px\"viewBox=\"0 0 24 24\"\n",
              "       width=\"24px\">\n",
              "    <path d=\"M0 0h24v24H0V0z\" fill=\"none\"/>\n",
              "    <path d=\"M18.56 5.44l.94 2.06.94-2.06 2.06-.94-2.06-.94-.94-2.06-.94 2.06-2.06.94zm-11 1L8.5 8.5l.94-2.06 2.06-.94-2.06-.94L8.5 2.5l-.94 2.06-2.06.94zm10 10l.94 2.06.94-2.06 2.06-.94-2.06-.94-.94-2.06-.94 2.06-2.06.94z\"/><path d=\"M17.41 7.96l-1.37-1.37c-.4-.4-.92-.59-1.43-.59-.52 0-1.04.2-1.43.59L10.3 9.45l-7.72 7.72c-.78.78-.78 2.05 0 2.83L4 21.41c.39.39.9.59 1.41.59.51 0 1.02-.2 1.41-.59l7.78-7.78 2.81-2.81c.8-.78.8-2.07 0-2.86zM5.41 20L4 18.59l7.72-7.72 1.47 1.35L5.41 20z\"/>\n",
              "  </svg>\n",
              "      </button>\n",
              "      \n",
              "  <style>\n",
              "    .colab-df-container {\n",
              "      display:flex;\n",
              "      flex-wrap:wrap;\n",
              "      gap: 12px;\n",
              "    }\n",
              "\n",
              "    .colab-df-convert {\n",
              "      background-color: #E8F0FE;\n",
              "      border: none;\n",
              "      border-radius: 50%;\n",
              "      cursor: pointer;\n",
              "      display: none;\n",
              "      fill: #1967D2;\n",
              "      height: 32px;\n",
              "      padding: 0 0 0 0;\n",
              "      width: 32px;\n",
              "    }\n",
              "\n",
              "    .colab-df-convert:hover {\n",
              "      background-color: #E2EBFA;\n",
              "      box-shadow: 0px 1px 2px rgba(60, 64, 67, 0.3), 0px 1px 3px 1px rgba(60, 64, 67, 0.15);\n",
              "      fill: #174EA6;\n",
              "    }\n",
              "\n",
              "    [theme=dark] .colab-df-convert {\n",
              "      background-color: #3B4455;\n",
              "      fill: #D2E3FC;\n",
              "    }\n",
              "\n",
              "    [theme=dark] .colab-df-convert:hover {\n",
              "      background-color: #434B5C;\n",
              "      box-shadow: 0px 1px 3px 1px rgba(0, 0, 0, 0.15);\n",
              "      filter: drop-shadow(0px 1px 2px rgba(0, 0, 0, 0.3));\n",
              "      fill: #FFFFFF;\n",
              "    }\n",
              "  </style>\n",
              "\n",
              "      <script>\n",
              "        const buttonEl =\n",
              "          document.querySelector('#df-33d5b0f0-46b7-4907-8ba1-89baf862192a button.colab-df-convert');\n",
              "        buttonEl.style.display =\n",
              "          google.colab.kernel.accessAllowed ? 'block' : 'none';\n",
              "\n",
              "        async function convertToInteractive(key) {\n",
              "          const element = document.querySelector('#df-33d5b0f0-46b7-4907-8ba1-89baf862192a');\n",
              "          const dataTable =\n",
              "            await google.colab.kernel.invokeFunction('convertToInteractive',\n",
              "                                                     [key], {});\n",
              "          if (!dataTable) return;\n",
              "\n",
              "          const docLinkHtml = 'Like what you see? Visit the ' +\n",
              "            '<a target=\"_blank\" href=https://colab.research.google.com/notebooks/data_table.ipynb>data table notebook</a>'\n",
              "            + ' to learn more about interactive tables.';\n",
              "          element.innerHTML = '';\n",
              "          dataTable['output_type'] = 'display_data';\n",
              "          await google.colab.output.renderOutput(dataTable, element);\n",
              "          const docLink = document.createElement('div');\n",
              "          docLink.innerHTML = docLinkHtml;\n",
              "          element.appendChild(docLink);\n",
              "        }\n",
              "      </script>\n",
              "    </div>\n",
              "  </div>\n",
              "  "
            ]
          },
          "metadata": {},
          "execution_count": 4
        }
      ]
    },
    {
      "cell_type": "code",
      "source": [
        "df_fraud.columns"
      ],
      "metadata": {
        "colab": {
          "base_uri": "https://localhost:8080/"
        },
        "id": "NGaR7KTv43nG",
        "outputId": "61ee5dd3-73bb-4bb7-f9e6-25f0a76b668e"
      },
      "execution_count": null,
      "outputs": [
        {
          "output_type": "execute_result",
          "data": {
            "text/plain": [
              "Index(['ï»¿Month', 'WeekOfMonth', 'DayOfWeek', 'Make', 'AccidentArea',\n",
              "       'DayOfWeekClaimed', 'MonthClaimed', 'WeekOfMonthClaimed', 'Sex',\n",
              "       'MaritalStatus', 'Age', 'Fault', 'PolicyType', 'VehicleCategory',\n",
              "       'VehiclePrice', 'FraudFound_P', 'PolicyNumber', 'RepNumber',\n",
              "       'Deductible', 'DriverRating', 'Days_Policy_Accident',\n",
              "       'Days_Policy_Claim', 'PastNumberOfClaims', 'AgeOfVehicle',\n",
              "       'AgeOfPolicyHolder', 'PoliceReportFiled', 'WitnessPresent', 'AgentType',\n",
              "       'NumberOfSuppliments', 'AddressChange_Claim', 'NumberOfCars', 'Year',\n",
              "       'BasePolicy'],\n",
              "      dtype='object')"
            ]
          },
          "metadata": {},
          "execution_count": 5
        }
      ]
    },
    {
      "cell_type": "code",
      "source": [
        "#De este subdataset df_fraud, remuevo variables redundantes para analizar variables específicas que posibiliten identificar un perfil con caracteristicas comunes de quienes cometen fraude.\n",
        "df_fraud_cleaned = df_fraud.copy().drop(['ï»¿Month','WeekOfMonth','DayOfWeek','DayOfWeekClaimed', 'MonthClaimed', 'Age','PolicyType','VehiclePrice', 'WeekOfMonthClaimed','PolicyNumber', 'RepNumber','Deductible','DriverRating', 'Days_Policy_Accident',\n",
        "       'Days_Policy_Claim','AccidentArea','Year','PoliceReportFiled', 'WitnessPresent', 'AgentType',\n",
        "       'NumberOfSuppliments'], axis=1)"
      ],
      "metadata": {
        "id": "DWxIQUNT8UmS"
      },
      "execution_count": null,
      "outputs": []
    },
    {
      "cell_type": "code",
      "source": [
        "df_fraud_cleaned.shape"
      ],
      "metadata": {
        "colab": {
          "base_uri": "https://localhost:8080/"
        },
        "id": "c9MPovYIC4vx",
        "outputId": "e2fdb002-62f6-4428-c605-09ff92ee4917"
      },
      "execution_count": null,
      "outputs": [
        {
          "output_type": "execute_result",
          "data": {
            "text/plain": [
              "(923, 12)"
            ]
          },
          "metadata": {},
          "execution_count": 7
        }
      ]
    },
    {
      "cell_type": "code",
      "source": [
        "sns.countplot(x='Fault', hue='BasePolicy', data=df_fraud_cleaned)"
      ],
      "metadata": {
        "colab": {
          "base_uri": "https://localhost:8080/",
          "height": 297
        },
        "id": "dnscmpDqypr1",
        "outputId": "2d6b544c-2110-4db6-df5c-b92867c2b0d5"
      },
      "execution_count": null,
      "outputs": [
        {
          "output_type": "execute_result",
          "data": {
            "text/plain": [
              "<AxesSubplot:xlabel='Fault', ylabel='count'>"
            ]
          },
          "metadata": {},
          "execution_count": 8
        },
        {
          "output_type": "display_data",
          "data": {
            "text/plain": [
              "<Figure size 432x288 with 1 Axes>"
            ],
            "image/png": "[encoded data removed]"
          },
          "metadata": {
            "needs_background": "light"
          }
        }
      ]
    },
    {
      "cell_type": "markdown",
      "source": [
        "Este barplot muestra que se contrató una proporción alta y casi identica entre seguros con cobertura All perils (contra todo riesgo menos excepciones indicadas en la póliza) y Collision (cubren sólo daños al vehículo del propietario en caso de que accidente ocurra contra otro automóvil u objeto). \n",
        "La cantidad de cobertura Liability (responsabilidad civil contra terceros) fue contratada en menor proporción.\n",
        "\n",
        "De este mismo gráfico se podría derivar que sólo el 2% de los 923 casos de fraude (20 casos aproximadamente) conspiraron con terceros para cobrar por daños o lesiones a terceros con la cobertura de liability y en el 98% de los casos restantes, pudieron haber causado el accidente contra un objeto y no otro vehiculo o causando lesiones a terceros dado que la cobertura de all perils y collision no cubriria dichos montos."
      ],
      "metadata": {
        "id": "jGEB4Ptosc5k"
      }
    },
    {
      "cell_type": "markdown",
      "source": [],
      "metadata": {
        "id": "CaqEGiAXdtGb"
      }
    },
    {
      "cell_type": "code",
      "source": [
        "sns.countplot(x='MaritalStatus', hue='Sex', data=df_fraud_cleaned)"
      ],
      "metadata": {
        "colab": {
          "base_uri": "https://localhost:8080/",
          "height": 300
        },
        "id": "jC5HFdytd8Lv",
        "outputId": "9c6c4dd7-5fbc-4685-dc66-f29b88ac52b3"
      },
      "execution_count": null,
      "outputs": [
        {
          "output_type": "execute_result",
          "data": {
            "text/plain": [
              "<AxesSubplot:xlabel='MaritalStatus', ylabel='count'>"
            ]
          },
          "metadata": {},
          "execution_count": 9
        },
        {
          "output_type": "display_data",
          "data": {
            "text/plain": [
              "<Figure size 432x288 with 1 Axes>"
            ],
            "image/png": "[encoded data removed]"
          },
          "metadata": {
            "needs_background": "light"
          }
        }
      ]
    },
    {
      "cell_type": "code",
      "source": [
        "sns.countplot(x='Sex', hue='AgeOfPolicyHolder', data=df_fraud_cleaned)"
      ],
      "metadata": {
        "colab": {
          "base_uri": "https://localhost:8080/",
          "height": 297
        },
        "id": "xjFC07Ylf7bo",
        "outputId": "346e2e78-b773-442d-b01b-f484615274a8"
      },
      "execution_count": null,
      "outputs": [
        {
          "output_type": "execute_result",
          "data": {
            "text/plain": [
              "<AxesSubplot:xlabel='Sex', ylabel='count'>"
            ]
          },
          "metadata": {},
          "execution_count": 10
        },
        {
          "output_type": "display_data",
          "data": {
            "text/plain": [
              "<Figure size 432x288 with 1 Axes>"
            ],
            "image/png": "[encoded data removed]"
          },
          "metadata": {
            "needs_background": "light"
          }
        }
      ]
    },
    {
      "cell_type": "code",
      "source": [
        "from collections import Counter\n",
        "\n",
        "PastNumberOfClaims_count = df_fraud_cleaned['AgeOfVehicle']\n",
        "\n",
        "freqs = Counter(PastNumberOfClaims_count)\n",
        "\n",
        "xvals = range(len(freqs.values()))\n",
        "plt.bar(xvals, freqs.values() , color='#37777D', width=0.8, bottom= 10)\n",
        "plt.xticks(xvals, freqs.keys(), rotation='vertical')\n",
        "plt.show() "
      ],
      "metadata": {
        "colab": {
          "base_uri": "https://localhost:8080/",
          "height": 320
        },
        "id": "Ki7TAtR_flzy",
        "outputId": "509ec33c-5415-4de4-a9d8-fb246683e517"
      },
      "execution_count": null,
      "outputs": [
        {
          "output_type": "display_data",
          "data": {
            "text/plain": [
              "<Figure size 432x288 with 1 Axes>"
            ],
            "image/png": "[encoded data removed]"
          },
          "metadata": {
            "needs_background": "light"
          }
        }
      ]
    },
    {
      "cell_type": "markdown",
      "source": [
        "Podriamos reducir nuestro perfil a hombres entre 31-50 (ordenados por orden de prioridad: rangos 31-35 años, 36-40 y 41-50) años con estado marital casado y soltero con vehículo con mínimo de 5 años de vida."
      ],
      "metadata": {
        "id": "_dN5v2kRNAe4"
      }
    },
    {
      "cell_type": "code",
      "source": [
        "from collections import Counter\n",
        "\n",
        "Make_count = df_fraud_cleaned['Make']\n",
        "\n",
        "freqs = Counter(Make_count)\n",
        "\n",
        "xvals = range(len(freqs.values()))\n",
        "plt.bar(xvals, freqs.values() , color='#37777D', width=0.8, bottom= 10)\n",
        "plt.xticks(xvals, freqs.keys(), rotation='vertical')\n",
        "plt.show() "
      ],
      "metadata": {
        "colab": {
          "base_uri": "https://localhost:8080/",
          "height": 303
        },
        "id": "ly1WOb4kNpC1",
        "outputId": "012f2167-9e2d-4107-f1f5-d84ad1021a81"
      },
      "execution_count": null,
      "outputs": [
        {
          "output_type": "display_data",
          "data": {
            "text/plain": [
              "<Figure size 432x288 with 1 Axes>"
            ],
            "image/png": "[encoded data removed]"
          },
          "metadata": {
            "needs_background": "light"
          }
        }
      ]
    },
    {
      "cell_type": "markdown",
      "source": [
        "En conclusión, una primera hipotesis para corroborar con aprendizaje no supervizado podría ser: \n",
        "-Hombres \n",
        "\n",
        "-Entre 31-50 años\n",
        "\n",
        "-Estado marital casado o soltero\n",
        "\n",
        "-Vehículo con mínimo de 5 años de antiguedad\n",
        "\n",
        "-Marca: Pontiac, Toyota, Honda, Mazda, Chevrolet"
      ],
      "metadata": {
        "id": "rGdVnNdhPnJj"
      }
    },
    {
      "cell_type": "code",
      "source": [
        "#Vuelvo al dataset original df. Remuevo colummas de variables que no considero relevantes. Para las columnas restantes, obtengo valores unicos categoricos para posteriormente mapearlos a un valor numérico.\n",
        "\n",
        "df_fraud_mapped = df.copy().drop(['ï»¿Month','WeekOfMonth','DayOfWeek','DayOfWeekClaimed', 'MonthClaimed', 'Age','PolicyType','VehiclePrice', 'WeekOfMonthClaimed','PolicyNumber', 'RepNumber','Deductible','DriverRating', 'Days_Policy_Accident',\n",
        "       'Days_Policy_Claim','AccidentArea','Year','PoliceReportFiled', 'WitnessPresent', 'AgentType',\n",
        "       'NumberOfSuppliments'], axis=1)\n",
        "df_fraud_mapped.head()"
      ],
      "metadata": {
        "colab": {
          "base_uri": "https://localhost:8080/",
          "height": 206
        },
        "id": "S3mwFA5yugiB",
        "outputId": "8e40fe94-2b9d-403d-de96-783f39315fc9"
      },
      "execution_count": null,
      "outputs": [
        {
          "output_type": "execute_result",
          "data": {
            "text/plain": [
              "     Make     Sex MaritalStatus          Fault VehicleCategory  FraudFound_P  \\\n",
              "0   Honda  Female        Single  Policy Holder           Sport             0   \n",
              "1   Honda    Male        Single  Policy Holder           Sport             0   \n",
              "2   Honda    Male       Married  Policy Holder           Sport             0   \n",
              "3  Toyota    Male       Married    Third Party           Sport             0   \n",
              "4   Honda  Female        Single    Third Party           Sport             0   \n",
              "\n",
              "  PastNumberOfClaims AgeOfVehicle AgeOfPolicyHolder AddressChange_Claim  \\\n",
              "0               none      3 years          26 to 30              1 year   \n",
              "1               none      6 years          31 to 35           no change   \n",
              "2                  1      7 years          41 to 50           no change   \n",
              "3                  1  more than 7          51 to 65           no change   \n",
              "4               none      5 years          31 to 35           no change   \n",
              "\n",
              "  NumberOfCars BasePolicy  \n",
              "0       3 to 4  Liability  \n",
              "1    1 vehicle  Collision  \n",
              "2    1 vehicle  Collision  \n",
              "3    1 vehicle  Liability  \n",
              "4    1 vehicle  Collision  "
            ],
            "text/html": [
              "\n",
              "  <div id=\"df-4cf74f42-8dec-450e-8b36-cd2e559c3fcc\">\n",
              "    <div class=\"colab-df-container\">\n",
              "      <div>\n",
              "<style scoped>\n",
              "    .dataframe tbody tr th:only-of-type {\n",
              "        vertical-align: middle;\n",
              "    }\n",
              "\n",
              "    .dataframe tbody tr th {\n",
              "        vertical-align: top;\n",
              "    }\n",
              "\n",
              "    .dataframe thead th {\n",
              "        text-align: right;\n",
              "    }\n",
              "</style>\n",
              "<table border=\"1\" class=\"dataframe\">\n",
              "  <thead>\n",
              "    <tr style=\"text-align: right;\">\n",
              "      <th></th>\n",
              "      <th>Make</th>\n",
              "      <th>Sex</th>\n",
              "      <th>MaritalStatus</th>\n",
              "      <th>Fault</th>\n",
              "      <th>VehicleCategory</th>\n",
              "      <th>FraudFound_P</th>\n",
              "      <th>PastNumberOfClaims</th>\n",
              "      <th>AgeOfVehicle</th>\n",
              "      <th>AgeOfPolicyHolder</th>\n",
              "      <th>AddressChange_Claim</th>\n",
              "      <th>NumberOfCars</th>\n",
              "      <th>BasePolicy</th>\n",
              "    </tr>\n",
              "  </thead>\n",
              "  <tbody>\n",
              "    <tr>\n",
              "      <th>0</th>\n",
              "      <td>Honda</td>\n",
              "      <td>Female</td>\n",
              "      <td>Single</td>\n",
              "      <td>Policy Holder</td>\n",
              "      <td>Sport</td>\n",
              "      <td>0</td>\n",
              "      <td>none</td>\n",
              "      <td>3 years</td>\n",
              "      <td>26 to 30</td>\n",
              "      <td>1 year</td>\n",
              "      <td>3 to 4</td>\n",
              "      <td>Liability</td>\n",
              "    </tr>\n",
              "    <tr>\n",
              "      <th>1</th>\n",
              "      <td>Honda</td>\n",
              "      <td>Male</td>\n",
              "      <td>Single</td>\n",
              "      <td>Policy Holder</td>\n",
              "      <td>Sport</td>\n",
              "      <td>0</td>\n",
              "      <td>none</td>\n",
              "      <td>6 years</td>\n",
              "      <td>31 to 35</td>\n",
              "      <td>no change</td>\n",
              "      <td>1 vehicle</td>\n",
              "      <td>Collision</td>\n",
              "    </tr>\n",
              "    <tr>\n",
              "      <th>2</th>\n",
              "      <td>Honda</td>\n",
              "      <td>Male</td>\n",
              "      <td>Married</td>\n",
              "      <td>Policy Holder</td>\n",
              "      <td>Sport</td>\n",
              "      <td>0</td>\n",
              "      <td>1</td>\n",
              "      <td>7 years</td>\n",
              "      <td>41 to 50</td>\n",
              "      <td>no change</td>\n",
              "      <td>1 vehicle</td>\n",
              "      <td>Collision</td>\n",
              "    </tr>\n",
              "    <tr>\n",
              "      <th>3</th>\n",
              "      <td>Toyota</td>\n",
              "      <td>Male</td>\n",
              "      <td>Married</td>\n",
              "      <td>Third Party</td>\n",
              "      <td>Sport</td>\n",
              "      <td>0</td>\n",
              "      <td>1</td>\n",
              "      <td>more than 7</td>\n",
              "      <td>51 to 65</td>\n",
              "      <td>no change</td>\n",
              "      <td>1 vehicle</td>\n",
              "      <td>Liability</td>\n",
              "    </tr>\n",
              "    <tr>\n",
              "      <th>4</th>\n",
              "      <td>Honda</td>\n",
              "      <td>Female</td>\n",
              "      <td>Single</td>\n",
              "      <td>Third Party</td>\n",
              "      <td>Sport</td>\n",
              "      <td>0</td>\n",
              "      <td>none</td>\n",
              "      <td>5 years</td>\n",
              "      <td>31 to 35</td>\n",
              "      <td>no change</td>\n",
              "      <td>1 vehicle</td>\n",
              "      <td>Collision</td>\n",
              "    </tr>\n",
              "  </tbody>\n",
              "</table>\n",
              "</div>\n",
              "      <button class=\"colab-df-convert\" onclick=\"convertToInteractive('df-4cf74f42-8dec-450e-8b36-cd2e559c3fcc')\"\n",
              "              title=\"Convert this dataframe to an interactive table.\"\n",
              "              style=\"display:none;\">\n",
              "        \n",
              "  <svg xmlns=\"http://www.w3.org/2000/svg\" height=\"24px\"viewBox=\"0 0 24 24\"\n",
              "       width=\"24px\">\n",
              "    <path d=\"M0 0h24v24H0V0z\" fill=\"none\"/>\n",
              "    <path d=\"M18.56 5.44l.94 2.06.94-2.06 2.06-.94-2.06-.94-.94-2.06-.94 2.06-2.06.94zm-11 1L8.5 8.5l.94-2.06 2.06-.94-2.06-.94L8.5 2.5l-.94 2.06-2.06.94zm10 10l.94 2.06.94-2.06 2.06-.94-2.06-.94-.94-2.06-.94 2.06-2.06.94z\"/><path d=\"M17.41 7.96l-1.37-1.37c-.4-.4-.92-.59-1.43-.59-.52 0-1.04.2-1.43.59L10.3 9.45l-7.72 7.72c-.78.78-.78 2.05 0 2.83L4 21.41c.39.39.9.59 1.41.59.51 0 1.02-.2 1.41-.59l7.78-7.78 2.81-2.81c.8-.78.8-2.07 0-2.86zM5.41 20L4 18.59l7.72-7.72 1.47 1.35L5.41 20z\"/>\n",
              "  </svg>\n",
              "      </button>\n",
              "      \n",
              "  <style>\n",
              "    .colab-df-container {\n",
              "      display:flex;\n",
              "      flex-wrap:wrap;\n",
              "      gap: 12px;\n",
              "    }\n",
              "\n",
              "    .colab-df-convert {\n",
              "      background-color: #E8F0FE;\n",
              "      border: none;\n",
              "      border-radius: 50%;\n",
              "      cursor: pointer;\n",
              "      display: none;\n",
              "      fill: #1967D2;\n",
              "      height: 32px;\n",
              "      padding: 0 0 0 0;\n",
              "      width: 32px;\n",
              "    }\n",
              "\n",
              "    .colab-df-convert:hover {\n",
              "      background-color: #E2EBFA;\n",
              "      box-shadow: 0px 1px 2px rgba(60, 64, 67, 0.3), 0px 1px 3px 1px rgba(60, 64, 67, 0.15);\n",
              "      fill: #174EA6;\n",
              "    }\n",
              "\n",
              "    [theme=dark] .colab-df-convert {\n",
              "      background-color: #3B4455;\n",
              "      fill: #D2E3FC;\n",
              "    }\n",
              "\n",
              "    [theme=dark] .colab-df-convert:hover {\n",
              "      background-color: #434B5C;\n",
              "      box-shadow: 0px 1px 3px 1px rgba(0, 0, 0, 0.15);\n",
              "      filter: drop-shadow(0px 1px 2px rgba(0, 0, 0, 0.3));\n",
              "      fill: #FFFFFF;\n",
              "    }\n",
              "  </style>\n",
              "\n",
              "      <script>\n",
              "        const buttonEl =\n",
              "          document.querySelector('#df-4cf74f42-8dec-450e-8b36-cd2e559c3fcc button.colab-df-convert');\n",
              "        buttonEl.style.display =\n",
              "          google.colab.kernel.accessAllowed ? 'block' : 'none';\n",
              "\n",
              "        async function convertToInteractive(key) {\n",
              "          const element = document.querySelector('#df-4cf74f42-8dec-450e-8b36-cd2e559c3fcc');\n",
              "          const dataTable =\n",
              "            await google.colab.kernel.invokeFunction('convertToInteractive',\n",
              "                                                     [key], {});\n",
              "          if (!dataTable) return;\n",
              "\n",
              "          const docLinkHtml = 'Like what you see? Visit the ' +\n",
              "            '<a target=\"_blank\" href=https://colab.research.google.com/notebooks/data_table.ipynb>data table notebook</a>'\n",
              "            + ' to learn more about interactive tables.';\n",
              "          element.innerHTML = '';\n",
              "          dataTable['output_type'] = 'display_data';\n",
              "          await google.colab.output.renderOutput(dataTable, element);\n",
              "          const docLink = document.createElement('div');\n",
              "          docLink.innerHTML = docLinkHtml;\n",
              "          element.appendChild(docLink);\n",
              "        }\n",
              "      </script>\n",
              "    </div>\n",
              "  </div>\n",
              "  "
            ]
          },
          "metadata": {},
          "execution_count": 13
        }
      ]
    },
    {
      "cell_type": "code",
      "source": [
        "df_fraud_mapped.shape"
      ],
      "metadata": {
        "colab": {
          "base_uri": "https://localhost:8080/"
        },
        "id": "4S_XTy-2rNBC",
        "outputId": "bb375263-98de-47c7-c111-6270e54743d2"
      },
      "execution_count": null,
      "outputs": [
        {
          "output_type": "execute_result",
          "data": {
            "text/plain": [
              "(15420, 12)"
            ]
          },
          "metadata": {},
          "execution_count": 14
        }
      ]
    },
    {
      "cell_type": "code",
      "source": [
        "df_fraud_mapped.Make.unique()\n"
      ],
      "metadata": {
        "colab": {
          "base_uri": "https://localhost:8080/"
        },
        "id": "FLgq4CzmwzFj",
        "outputId": "e853cd79-f426-462e-ff75-399f7b53384e"
      },
      "execution_count": null,
      "outputs": [
        {
          "output_type": "execute_result",
          "data": {
            "text/plain": [
              "array(['Honda', 'Toyota', 'Ford', 'Mazda', 'Chevrolet', 'Pontiac',\n",
              "       'Accura', 'Dodge', 'Mercury', 'Jaguar', 'Nisson', 'VW', 'Saab',\n",
              "       'Saturn', 'Porche', 'BMW', 'Mecedes', 'Ferrari', 'Lexus'],\n",
              "      dtype=object)"
            ]
          },
          "metadata": {},
          "execution_count": 15
        }
      ]
    },
    {
      "cell_type": "code",
      "source": [
        "df_fraud_mapped.Sex.unique()\n"
      ],
      "metadata": {
        "colab": {
          "base_uri": "https://localhost:8080/"
        },
        "id": "Do2c_eV41S3H",
        "outputId": "0f53b633-0e05-4794-f8f4-7987411d8a30"
      },
      "execution_count": null,
      "outputs": [
        {
          "output_type": "execute_result",
          "data": {
            "text/plain": [
              "array(['Female', 'Male'], dtype=object)"
            ]
          },
          "metadata": {},
          "execution_count": 16
        }
      ]
    },
    {
      "cell_type": "code",
      "source": [
        "df_fraud_mapped.MaritalStatus.unique()\n"
      ],
      "metadata": {
        "colab": {
          "base_uri": "https://localhost:8080/"
        },
        "id": "esih7EX91bMs",
        "outputId": "518809db-701e-459b-db66-9d97cc687477"
      },
      "execution_count": null,
      "outputs": [
        {
          "output_type": "execute_result",
          "data": {
            "text/plain": [
              "array(['Single', 'Married', 'Widow', 'Divorced'], dtype=object)"
            ]
          },
          "metadata": {},
          "execution_count": 17
        }
      ]
    },
    {
      "cell_type": "code",
      "source": [
        "df_fraud_mapped.Fault.unique()\n"
      ],
      "metadata": {
        "colab": {
          "base_uri": "https://localhost:8080/"
        },
        "id": "F0QblpIN1c8N",
        "outputId": "71d6c88c-0992-4b1a-b9aa-4a5364c6aa5d"
      },
      "execution_count": null,
      "outputs": [
        {
          "output_type": "execute_result",
          "data": {
            "text/plain": [
              "array(['Policy Holder', 'Third Party'], dtype=object)"
            ]
          },
          "metadata": {},
          "execution_count": 18
        }
      ]
    },
    {
      "cell_type": "code",
      "source": [
        "df_fraud_mapped.VehicleCategory.unique()\n"
      ],
      "metadata": {
        "colab": {
          "base_uri": "https://localhost:8080/"
        },
        "id": "WUMAsnPh1eQG",
        "outputId": "27b4e35b-a9ba-4cdf-a199-10487ae41f0d"
      },
      "execution_count": null,
      "outputs": [
        {
          "output_type": "execute_result",
          "data": {
            "text/plain": [
              "array(['Sport', 'Utility', 'Sedan'], dtype=object)"
            ]
          },
          "metadata": {},
          "execution_count": 19
        }
      ]
    },
    {
      "cell_type": "code",
      "source": [
        "df_fraud_mapped.PastNumberOfClaims.unique()\n"
      ],
      "metadata": {
        "colab": {
          "base_uri": "https://localhost:8080/"
        },
        "id": "Dul00OIs1gFV",
        "outputId": "62e83f2c-a172-45b6-8006-e31aa3ca71fc"
      },
      "execution_count": null,
      "outputs": [
        {
          "output_type": "execute_result",
          "data": {
            "text/plain": [
              "array(['none', '1', '2 to 4', 'more than 4'], dtype=object)"
            ]
          },
          "metadata": {},
          "execution_count": 20
        }
      ]
    },
    {
      "cell_type": "code",
      "source": [
        "df_fraud_mapped.AgeOfVehicle.unique()\n"
      ],
      "metadata": {
        "colab": {
          "base_uri": "https://localhost:8080/"
        },
        "id": "6u8XIkDT1hZU",
        "outputId": "1bcbb54f-a9ec-4bfe-f95d-c80de30d9f71"
      },
      "execution_count": null,
      "outputs": [
        {
          "output_type": "execute_result",
          "data": {
            "text/plain": [
              "array(['3 years', '6 years', '7 years', 'more than 7', '5 years', 'new',\n",
              "       '4 years', '2 years'], dtype=object)"
            ]
          },
          "metadata": {},
          "execution_count": 21
        }
      ]
    },
    {
      "cell_type": "code",
      "source": [
        "df_fraud_mapped.AgeOfPolicyHolder.unique()\n"
      ],
      "metadata": {
        "colab": {
          "base_uri": "https://localhost:8080/"
        },
        "id": "rwr7363F1i3L",
        "outputId": "7d759c07-4826-4875-fd25-9caabf3413ab"
      },
      "execution_count": null,
      "outputs": [
        {
          "output_type": "execute_result",
          "data": {
            "text/plain": [
              "array(['26 to 30', '31 to 35', '41 to 50', '51 to 65', '21 to 25',\n",
              "       '36 to 40', '16 to 17', 'over 65', '18 to 20'], dtype=object)"
            ]
          },
          "metadata": {},
          "execution_count": 22
        }
      ]
    },
    {
      "cell_type": "code",
      "source": [
        "df_fraud_mapped.AddressChange_Claim.unique()\n"
      ],
      "metadata": {
        "colab": {
          "base_uri": "https://localhost:8080/"
        },
        "id": "4Y2v9kEG1kpC",
        "outputId": "93b94461-0a6f-4ef1-d06d-725b9f4ea0a5"
      },
      "execution_count": null,
      "outputs": [
        {
          "output_type": "execute_result",
          "data": {
            "text/plain": [
              "array(['1 year', 'no change', '4 to 8 years', '2 to 3 years',\n",
              "       'under 6 months'], dtype=object)"
            ]
          },
          "metadata": {},
          "execution_count": 23
        }
      ]
    },
    {
      "cell_type": "code",
      "source": [
        "df_fraud_mapped.NumberOfCars.unique()\n"
      ],
      "metadata": {
        "colab": {
          "base_uri": "https://localhost:8080/"
        },
        "id": "xtjj1dRC1mGG",
        "outputId": "548e24b9-25d2-4b45-f82f-4276394d3ae1"
      },
      "execution_count": null,
      "outputs": [
        {
          "output_type": "execute_result",
          "data": {
            "text/plain": [
              "array(['3 to 4', '1 vehicle', '2 vehicles', '5 to 8', 'more than 8'],\n",
              "      dtype=object)"
            ]
          },
          "metadata": {},
          "execution_count": 24
        }
      ]
    },
    {
      "cell_type": "code",
      "source": [
        "df_fraud_mapped.BasePolicy.unique()"
      ],
      "metadata": {
        "colab": {
          "base_uri": "https://localhost:8080/"
        },
        "id": "LTe1ARqB1oeS",
        "outputId": "e9bc28fe-b5a3-4ee3-a6a8-ed2e9f9bc529"
      },
      "execution_count": null,
      "outputs": [
        {
          "output_type": "execute_result",
          "data": {
            "text/plain": [
              "array(['Liability', 'Collision', 'All Perils'], dtype=object)"
            ]
          },
          "metadata": {},
          "execution_count": 25
        }
      ]
    },
    {
      "cell_type": "markdown",
      "source": [
        "Paso de datos categóricos a numéricos"
      ],
      "metadata": {
        "id": "30_wiAIup6vY"
      }
    },
    {
      "cell_type": "code",
      "source": [
        "from sklearn.preprocessing import LabelEncoder\n",
        "le = LabelEncoder()\n",
        "Brand = le.fit_transform(df['Make'])\n",
        "\n",
        "df_fraud_mapped.drop(\"Make\", axis=1, inplace=True)\n",
        "df_fraud_mapped[\"Make\"] = Brand\n"
      ],
      "metadata": {
        "id": "cCD6dZxuAx1u"
      },
      "execution_count": null,
      "outputs": []
    },
    {
      "cell_type": "code",
      "source": [
        "df_fraud_mapped[\"Sex\"]=df_fraud_mapped[\"Sex\"].map({'Female':0, 'Male':1})\n",
        "df_fraud_mapped[\"MaritalStatus\"]=df_fraud_mapped[\"MaritalStatus\"].map({'Single':0, 'Married':1, 'Widow':2, 'Divorced':3})\n",
        "df_fraud_mapped[\"Fault\"]=df_fraud_mapped[\"Fault\"].map({'Policy Holder':0, 'Third Party':1})\n",
        "df_fraud_mapped[\"VehicleCategory\"]=df_fraud_mapped[\"VehicleCategory\"].map({'Sport':0, 'Utility':1, 'Sedan':2})\n",
        "df_fraud_mapped[\"PastNumberOfClaims\"]=df_fraud_mapped[\"PastNumberOfClaims\"].map({'none':0, '1':1, '2 to 4':2, 'more than 4':3})\n",
        "df_fraud_mapped[\"AgeOfVehicle\"]=df_fraud_mapped[\"AgeOfVehicle\"].map({'3 years':2, '6 years':5, '7 years':6, 'more than 7':7, '5 years':4, 'new':0,'4 years':3, '2 years':1})\n",
        "df_fraud_mapped[\"AgeOfPolicyHolder\"]=df_fraud_mapped[\"AgeOfPolicyHolder\"].map({'26 to 30':0, '31 to 35':1, '41 to 50':2, '51 to 65':3, '21 to 25':4,'36 to 40':5, '16 to 17':6, 'over 65':7, '18 to 20':8})\n",
        "df_fraud_mapped[\"AddressChange_Claim\"]=df_fraud_mapped[\"AddressChange_Claim\"].map({'1 year':0, 'no change':1, '4 to 8 years':2, '2 to 3 years':3,'under 6 months':4})\n",
        "df_fraud_mapped[\"NumberOfCars\"]=df_fraud_mapped[\"NumberOfCars\"].map({'3 to 4':0, '1 vehicle':1, '2 vehicles':2, '5 to 8':3, 'more than 8':4})\n",
        "df_fraud_mapped[\"BasePolicy\"]=df_fraud_mapped[\"BasePolicy\"].map({'Liability':0, 'Collision':1, 'All Perils':2})\n"
      ],
      "metadata": {
        "id": "I1T0iewVu6-o"
      },
      "execution_count": null,
      "outputs": []
    },
    {
      "cell_type": "code",
      "source": [
        "df_fraud_mapped.columns"
      ],
      "metadata": {
        "colab": {
          "base_uri": "https://localhost:8080/"
        },
        "id": "16Bm3FWpuRYo",
        "outputId": "be3c87b6-19e9-4b1d-e211-480a662ed263"
      },
      "execution_count": null,
      "outputs": [
        {
          "output_type": "execute_result",
          "data": {
            "text/plain": [
              "Index(['Sex', 'MaritalStatus', 'Fault', 'VehicleCategory', 'FraudFound_P',\n",
              "       'PastNumberOfClaims', 'AgeOfVehicle', 'AgeOfPolicyHolder',\n",
              "       'AddressChange_Claim', 'NumberOfCars', 'BasePolicy', 'Make'],\n",
              "      dtype='object')"
            ]
          },
          "metadata": {},
          "execution_count": 28
        }
      ]
    },
    {
      "cell_type": "code",
      "source": [
        "df_fraud_mapped.head()"
      ],
      "metadata": {
        "colab": {
          "base_uri": "https://localhost:8080/",
          "height": 206
        },
        "id": "AUP_-bRoHvsp",
        "outputId": "9bd460e4-68bc-41f7-fa01-08eb1a12067e"
      },
      "execution_count": null,
      "outputs": [
        {
          "output_type": "execute_result",
          "data": {
            "text/plain": [
              "   Sex  MaritalStatus  Fault  VehicleCategory  FraudFound_P  \\\n",
              "0    0              0      0                0             0   \n",
              "1    1              0      0                0             0   \n",
              "2    1              1      0                0             0   \n",
              "3    1              1      1                0             0   \n",
              "4    0              0      1                0             0   \n",
              "\n",
              "   PastNumberOfClaims  AgeOfVehicle  AgeOfPolicyHolder  AddressChange_Claim  \\\n",
              "0                   0             2                  0                    0   \n",
              "1                   0             5                  1                    1   \n",
              "2                   1             6                  2                    1   \n",
              "3                   1             7                  3                    1   \n",
              "4                   0             4                  1                    1   \n",
              "\n",
              "   NumberOfCars  BasePolicy  Make  \n",
              "0             0           0     6  \n",
              "1             1           1     6  \n",
              "2             1           1     6  \n",
              "3             1           0    17  \n",
              "4             1           1     6  "
            ],
            "text/html": [
              "\n",
              "  <div id=\"df-de3b3d32-997e-4b3a-9df1-6f060ac3768c\">\n",
              "    <div class=\"colab-df-container\">\n",
              "      <div>\n",
              "<style scoped>\n",
              "    .dataframe tbody tr th:only-of-type {\n",
              "        vertical-align: middle;\n",
              "    }\n",
              "\n",
              "    .dataframe tbody tr th {\n",
              "        vertical-align: top;\n",
              "    }\n",
              "\n",
              "    .dataframe thead th {\n",
              "        text-align: right;\n",
              "    }\n",
              "</style>\n",
              "<table border=\"1\" class=\"dataframe\">\n",
              "  <thead>\n",
              "    <tr style=\"text-align: right;\">\n",
              "      <th></th>\n",
              "      <th>Sex</th>\n",
              "      <th>MaritalStatus</th>\n",
              "      <th>Fault</th>\n",
              "      <th>VehicleCategory</th>\n",
              "      <th>FraudFound_P</th>\n",
              "      <th>PastNumberOfClaims</th>\n",
              "      <th>AgeOfVehicle</th>\n",
              "      <th>AgeOfPolicyHolder</th>\n",
              "      <th>AddressChange_Claim</th>\n",
              "      <th>NumberOfCars</th>\n",
              "      <th>BasePolicy</th>\n",
              "      <th>Make</th>\n",
              "    </tr>\n",
              "  </thead>\n",
              "  <tbody>\n",
              "    <tr>\n",
              "      <th>0</th>\n",
              "      <td>0</td>\n",
              "      <td>0</td>\n",
              "      <td>0</td>\n",
              "      <td>0</td>\n",
              "      <td>0</td>\n",
              "      <td>0</td>\n",
              "      <td>2</td>\n",
              "      <td>0</td>\n",
              "      <td>0</td>\n",
              "      <td>0</td>\n",
              "      <td>0</td>\n",
              "      <td>6</td>\n",
              "    </tr>\n",
              "    <tr>\n",
              "      <th>1</th>\n",
              "      <td>1</td>\n",
              "      <td>0</td>\n",
              "      <td>0</td>\n",
              "      <td>0</td>\n",
              "      <td>0</td>\n",
              "      <td>0</td>\n",
              "      <td>5</td>\n",
              "      <td>1</td>\n",
              "      <td>1</td>\n",
              "      <td>1</td>\n",
              "      <td>1</td>\n",
              "      <td>6</td>\n",
              "    </tr>\n",
              "    <tr>\n",
              "      <th>2</th>\n",
              "      <td>1</td>\n",
              "      <td>1</td>\n",
              "      <td>0</td>\n",
              "      <td>0</td>\n",
              "      <td>0</td>\n",
              "      <td>1</td>\n",
              "      <td>6</td>\n",
              "      <td>2</td>\n",
              "      <td>1</td>\n",
              "      <td>1</td>\n",
              "      <td>1</td>\n",
              "      <td>6</td>\n",
              "    </tr>\n",
              "    <tr>\n",
              "      <th>3</th>\n",
              "      <td>1</td>\n",
              "      <td>1</td>\n",
              "      <td>1</td>\n",
              "      <td>0</td>\n",
              "      <td>0</td>\n",
              "      <td>1</td>\n",
              "      <td>7</td>\n",
              "      <td>3</td>\n",
              "      <td>1</td>\n",
              "      <td>1</td>\n",
              "      <td>0</td>\n",
              "      <td>17</td>\n",
              "    </tr>\n",
              "    <tr>\n",
              "      <th>4</th>\n",
              "      <td>0</td>\n",
              "      <td>0</td>\n",
              "      <td>1</td>\n",
              "      <td>0</td>\n",
              "      <td>0</td>\n",
              "      <td>0</td>\n",
              "      <td>4</td>\n",
              "      <td>1</td>\n",
              "      <td>1</td>\n",
              "      <td>1</td>\n",
              "      <td>1</td>\n",
              "      <td>6</td>\n",
              "    </tr>\n",
              "  </tbody>\n",
              "</table>\n",
              "</div>\n",
              "      <button class=\"colab-df-convert\" onclick=\"convertToInteractive('df-de3b3d32-997e-4b3a-9df1-6f060ac3768c')\"\n",
              "              title=\"Convert this dataframe to an interactive table.\"\n",
              "              style=\"display:none;\">\n",
              "        \n",
              "  <svg xmlns=\"http://www.w3.org/2000/svg\" height=\"24px\"viewBox=\"0 0 24 24\"\n",
              "       width=\"24px\">\n",
              "    <path d=\"M0 0h24v24H0V0z\" fill=\"none\"/>\n",
              "    <path d=\"M18.56 5.44l.94 2.06.94-2.06 2.06-.94-2.06-.94-.94-2.06-.94 2.06-2.06.94zm-11 1L8.5 8.5l.94-2.06 2.06-.94-2.06-.94L8.5 2.5l-.94 2.06-2.06.94zm10 10l.94 2.06.94-2.06 2.06-.94-2.06-.94-.94-2.06-.94 2.06-2.06.94z\"/><path d=\"M17.41 7.96l-1.37-1.37c-.4-.4-.92-.59-1.43-.59-.52 0-1.04.2-1.43.59L10.3 9.45l-7.72 7.72c-.78.78-.78 2.05 0 2.83L4 21.41c.39.39.9.59 1.41.59.51 0 1.02-.2 1.41-.59l7.78-7.78 2.81-2.81c.8-.78.8-2.07 0-2.86zM5.41 20L4 18.59l7.72-7.72 1.47 1.35L5.41 20z\"/>\n",
              "  </svg>\n",
              "      </button>\n",
              "      \n",
              "  <style>\n",
              "    .colab-df-container {\n",
              "      display:flex;\n",
              "      flex-wrap:wrap;\n",
              "      gap: 12px;\n",
              "    }\n",
              "\n",
              "    .colab-df-convert {\n",
              "      background-color: #E8F0FE;\n",
              "      border: none;\n",
              "      border-radius: 50%;\n",
              "      cursor: pointer;\n",
              "      display: none;\n",
              "      fill: #1967D2;\n",
              "      height: 32px;\n",
              "      padding: 0 0 0 0;\n",
              "      width: 32px;\n",
              "    }\n",
              "\n",
              "    .colab-df-convert:hover {\n",
              "      background-color: #E2EBFA;\n",
              "      box-shadow: 0px 1px 2px rgba(60, 64, 67, 0.3), 0px 1px 3px 1px rgba(60, 64, 67, 0.15);\n",
              "      fill: #174EA6;\n",
              "    }\n",
              "\n",
              "    [theme=dark] .colab-df-convert {\n",
              "      background-color: #3B4455;\n",
              "      fill: #D2E3FC;\n",
              "    }\n",
              "\n",
              "    [theme=dark] .colab-df-convert:hover {\n",
              "      background-color: #434B5C;\n",
              "      box-shadow: 0px 1px 3px 1px rgba(0, 0, 0, 0.15);\n",
              "      filter: drop-shadow(0px 1px 2px rgba(0, 0, 0, 0.3));\n",
              "      fill: #FFFFFF;\n",
              "    }\n",
              "  </style>\n",
              "\n",
              "      <script>\n",
              "        const buttonEl =\n",
              "          document.querySelector('#df-de3b3d32-997e-4b3a-9df1-6f060ac3768c button.colab-df-convert');\n",
              "        buttonEl.style.display =\n",
              "          google.colab.kernel.accessAllowed ? 'block' : 'none';\n",
              "\n",
              "        async function convertToInteractive(key) {\n",
              "          const element = document.querySelector('#df-de3b3d32-997e-4b3a-9df1-6f060ac3768c');\n",
              "          const dataTable =\n",
              "            await google.colab.kernel.invokeFunction('convertToInteractive',\n",
              "                                                     [key], {});\n",
              "          if (!dataTable) return;\n",
              "\n",
              "          const docLinkHtml = 'Like what you see? Visit the ' +\n",
              "            '<a target=\"_blank\" href=https://colab.research.google.com/notebooks/data_table.ipynb>data table notebook</a>'\n",
              "            + ' to learn more about interactive tables.';\n",
              "          element.innerHTML = '';\n",
              "          dataTable['output_type'] = 'display_data';\n",
              "          await google.colab.output.renderOutput(dataTable, element);\n",
              "          const docLink = document.createElement('div');\n",
              "          docLink.innerHTML = docLinkHtml;\n",
              "          element.appendChild(docLink);\n",
              "        }\n",
              "      </script>\n",
              "    </div>\n",
              "  </div>\n",
              "  "
            ]
          },
          "metadata": {},
          "execution_count": 29
        }
      ]
    },
    {
      "cell_type": "code",
      "source": [
        "from matplotlib import pyplot as plt\n",
        "data_corr= df_fraud_mapped.corr()       \n",
        "plt.figure(figsize=(12,12))\n",
        "sns.heatmap(data_corr, cmap='coolwarm', linewidths=0.1, annot=True, linecolor='white')"
      ],
      "metadata": {
        "colab": {
          "base_uri": "https://localhost:8080/",
          "height": 824
        },
        "id": "J7Hp61QobUpM",
        "outputId": "f45f88ee-8519-42f1-a233-228112046a56"
      },
      "execution_count": null,
      "outputs": [
        {
          "output_type": "execute_result",
          "data": {
            "text/plain": [
              "<AxesSubplot:>"
            ]
          },
          "metadata": {},
          "execution_count": 30
        },
        {
          "output_type": "display_data",
          "data": {
            "text/plain": [
              "<Figure size 864x864 with 2 Axes>"
            ],
            "image/png": "[encoded data removed]"
          },
          "metadata": {
            "needs_background": "light"
          }
        }
      ]
    },
    {
      "cell_type": "code",
      "source": [
        "sns.displot(x ='AddressChange_Claim', hue = \"FraudFound_P\",stat=\"probability\",data = df_fraud_mapped)"
      ],
      "metadata": {
        "colab": {
          "base_uri": "https://localhost:8080/",
          "height": 387
        },
        "id": "hXqU3ttfvkbs",
        "outputId": "3fe22906-407d-420c-c30d-61ceddd0a6fb"
      },
      "execution_count": null,
      "outputs": [
        {
          "output_type": "execute_result",
          "data": {
            "text/plain": [
              "<seaborn.axisgrid.FacetGrid at 0x7fe6d5035040>"
            ]
          },
          "metadata": {},
          "execution_count": 39
        },
        {
          "output_type": "display_data",
          "data": {
            "text/plain": [
              "<Figure size 437.5x360 with 1 Axes>"
            ],
            "image/png": "[encoded data removed]"
          },
          "metadata": {
            "needs_background": "light"
          }
        }
      ]
    },
    {
      "cell_type": "code",
      "source": [
        "sns.set(style=\"whitegrid\") \n",
        "plt.figure(figsize=(15,4))\n",
        "ax=sns.barplot(x = 'Sex', y = 'FraudFound_P', hue = 'VehicleCategory', data = df)"
      ],
      "metadata": {
        "colab": {
          "base_uri": "https://localhost:8080/",
          "height": 285
        },
        "id": "uF7iE6KFzFa8",
        "outputId": "02b29286-d094-4b53-b0af-e1ab40cc98fc"
      },
      "execution_count": null,
      "outputs": [
        {
          "output_type": "display_data",
          "data": {
            "text/plain": [
              "<Figure size 1080x288 with 1 Axes>"
            ],
            "image/png": "[encoded data removed]"
          },
          "metadata": {}
        }
      ]
    }
  ]
}